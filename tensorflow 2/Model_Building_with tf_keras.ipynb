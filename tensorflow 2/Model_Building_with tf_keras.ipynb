{
  "nbformat": 4,
  "nbformat_minor": 0,
  "metadata": {
    "colab": {
      "name": "Model Building with tf.keras",
      "provenance": [],
      "collapsed_sections": []
    },
    "kernelspec": {
      "name": "python3",
      "display_name": "Python 3"
    }
  },
  "cells": [
    {
      "cell_type": "markdown",
      "metadata": {
        "id": "y8yeMwPunD7D",
        "colab_type": "text"
      },
      "source": [
        "Welcome to the tf.keras Model Building tutorial. Link to article: \n",
        "\n",
        "Here, we have our tensorflow.keras imports that we require for this tutorial."
      ]
    },
    {
      "cell_type": "code",
      "metadata": {
        "id": "B-U7BllTm5lm",
        "colab_type": "code",
        "colab": {}
      },
      "source": [
        "from tensorflow.keras.layers import Input, Add, Dense\n",
        "from tensorflow.keras.models import Model, Sequential"
      ],
      "execution_count": 1,
      "outputs": []
    },
    {
      "cell_type": "markdown",
      "metadata": {
        "id": "FlaVQyD4nhJg",
        "colab_type": "text"
      },
      "source": [
        "First, let's look at how to build a model with Sequential. We will be building the following model:![alt text](https://drive.google.com/uc?id=1iWYO1u0ErrMMRq6x9SMeD9aQNMBeuU7n)"
      ]
    },
    {
      "cell_type": "code",
      "metadata": {
        "id": "ggCY6aQSnDFZ",
        "colab_type": "code",
        "colab": {}
      },
      "source": [
        "# Here we initiate the sequential model\n",
        "model = Sequential() \n",
        "\n",
        "# This is how we add a layer to the sequential model. Only the first layer requires an input_shape parameter\n",
        "\n",
        "model.add(Dense(4, activation = 'relu', input_shape = (2,)) \n",
        "model.add(Dense(4, activation = 'relu'))\n",
        "model.add(Dense(4, activation = 'relu'))\n",
        "\n",
        "#At the final layer we select the appropriate activation function, which in this case is sigmoid.\n",
        "\n",
        "model.add(Dense(1, activation = 'sigmoid'))"
      ],
      "execution_count": null,
      "outputs": []
    },
    {
      "cell_type": "markdown",
      "metadata": {
        "id": "GsJGTpo6p1je",
        "colab_type": "text"
      },
      "source": [
        "Next let's build the following model using Functional API:\n",
        "![alt text](https://drive.google.com/uc?id=1_jmomU9HUKe22VFfrJwdzH6aRaz0Mrkm)"
      ]
    },
    {
      "cell_type": "code",
      "metadata": {
        "id": "GllxmntYpwZB",
        "colab_type": "code",
        "colab": {}
      },
      "source": [
        "input_1 = Input((2,))\n",
        "input_2 = Input((2,))\n",
        "\n",
        "dense_branch_1 = Dense(3, activation = 'relu')(input_1)\n",
        "dense_branch_1 = Dense(3, activation = 'relu')(dense_branch_1)\n",
        "\n",
        "dense_branch_2 = Dense(3, activation = 'relu')(input_2)\n",
        "dense_branch_2 = Dense(3, activation = 'relu')(dense_branch_2)\n",
        "\n",
        "add_layer = Add()([dense_branch_1, dense_branch_2])\n",
        "\n",
        "dense_main = Dense(3, activation = 'relu')(add_layer)\n",
        "dense_main = Dense(3, activation = 'relu')(dense_main)\n",
        "dense_main = Dense(3, activation = 'relu')(dense_main)\n",
        "\n",
        "output_layer = Dense(1, activation = 'sigmoid')(dense_main)\n",
        "\n",
        "model = Model([input_1, input_2], output_layer)"
      ],
      "execution_count": null,
      "outputs": []
    },
    {
      "cell_type": "markdown",
      "metadata": {
        "id": "8Cor8bc5qJ2-",
        "colab_type": "text"
      },
      "source": [
        "To compile a model after making it, we use the following line of code:"
      ]
    },
    {
      "cell_type": "code",
      "metadata": {
        "id": "IMXAJQ22qOL-",
        "colab_type": "code",
        "colab": {}
      },
      "source": [
        "model.compile(optimizer = 'adam', loss = 'binary_crossentropy', metrics = ['accuracy'])"
      ],
      "execution_count": null,
      "outputs": []
    }
  ]
}